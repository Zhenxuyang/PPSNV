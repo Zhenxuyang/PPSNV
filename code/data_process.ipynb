{
 "metadata": {
  "language_info": {
   "codemirror_mode": {
    "name": "ipython",
    "version": 3
   },
   "file_extension": ".py",
   "mimetype": "text/x-python",
   "name": "python",
   "nbconvert_exporter": "python",
   "pygments_lexer": "ipython3",
   "version": "3.7.9"
  },
  "orig_nbformat": 2,
  "kernelspec": {
   "name": "python379jvsc74a57bd0e58d3b4a238b69da25db37debc8e7c035df90db97ecce5d5d0275e11224d75ee",
   "display_name": "Python 3.7.9 64-bit ('ml': virtualenvwrapper)"
  },
  "metadata": {
   "interpreter": {
    "hash": "a5ba3b76034c7efd269233736b10220d5b6e6d9d6bdf3361a98c45210b1ea0de"
   }
  }
 },
 "nbformat": 4,
 "nbformat_minor": 2,
 "cells": [
  {
   "source": [
    "从原始数据集中提取出突变，用annovar进行注释"
   ],
   "cell_type": "markdown",
   "metadata": {}
  },
  {
   "cell_type": "code",
   "execution_count": null,
   "metadata": {},
   "outputs": [],
   "source": [
    "import pandas as pd\n",
    "\n",
    "raw_data_file = \"..\\data\\humu22768-sup-0001-suppmat\\humu22768-sup-0002-data.xlsx\"\n",
    "df = pd.read_excel(raw_data_file, index_col=0, sheet_name = None, usecols=[\"CHR\", \"Nuc-Pos\", \"REF-Nuc\", \"ALT-Nuc\"], engine=\"openpyxl\")\n",
    "print(df.keys())"
   ]
  },
  {
   "cell_type": "code",
   "execution_count": null,
   "metadata": {},
   "outputs": [],
   "source": [
    "import os\n",
    "\n",
    "variant_file_dir = \"..\\data\\\\variant\"\n",
    "if not os.path.exists(variant_file_dir):\n",
    "    os.mkdir(variant_file_dir)\n",
    "for key in df.keys():\n",
    "        _ = df[key]\n",
    "        _.to_csv(os.path.join(variant_file_dir, \"{}.csv\".format(key)))\n"
   ]
  },
  {
   "source": [
    "convert the snp files to vcf"
   ],
   "cell_type": "markdown",
   "metadata": {}
  },
  {
   "cell_type": "code",
   "execution_count": null,
   "metadata": {
    "tags": []
   },
   "outputs": [],
   "source": [
    "import pandas \n",
    "import os\n",
    "\n",
    "variant_files_dir = \"../data/variant\"\n",
    "output_dir = \"../data/variant\"\n",
    "if not os.path.exists(output_dir):\n",
    "    os.mkdir(output_dir)\n",
    "print(\"starting\")\n",
    "for root, dirs, files in os.walk(variant_files_dir):\n",
    "    for file_ in files:\n",
    "        path = os.path.join(root, file_)\n",
    "        print(\"process {}\".format(path))\n",
    "        df_variants = pandas.read_csv(path, index_col=0)\n",
    "        print(list(df_variants))\n",
    "        output_file = file_.split(\".\")[0] + \".vcf\"\n",
    "        if output_file is None:\n",
    "            output_file = str(uuid.uuid4())\n",
    "        output = os.path.join(output_dir, output_file)\n",
    "        with open(output, \"w+\") as f:\n",
    "            f.write(\"##fileformat=VCFv4.3\\n\")\n",
    "            f.write(\"#CHROM\\tPOS\\tID\\tREF\\tALT\\tQUAL\\tFILTER\\tINFO\\n\")\n",
    "            for index, row in df_variants.iterrows():\n",
    "                chr = index\n",
    "                pos = row[\"Nuc-Pos\"]\n",
    "                ref = row[\"REF-Nuc\"]\n",
    "                alt = row[\"ALT-Nuc\"]\n",
    "                f.write(\"{}\\t{}\\t.\\t{}\\t{}\\t.\\t.\\t.\\n\".format(chr, pos, ref, alt))"
   ]
  },
  {
   "source": [
    "check the output of annovar"
   ],
   "cell_type": "markdown",
   "metadata": {}
  },
  {
   "cell_type": "code",
   "execution_count": null,
   "metadata": {},
   "outputs": [],
   "source": [
    "import pandas as pd\n",
    "import numpy\n",
    "import matplotlib.pyplot as plt\n",
    "\n",
    "def annovar_res_visualize(exo_df):\n",
    "    # exo_df = exo_df.loc[:,~(exo_df == \".\").any()]\n",
    "    cols = list(exo_df)\n",
    "    stats = [[] for _ in range(3)]\n",
    "    for col in cols:\n",
    "        stats[0].append((exo_df[col]==\".\").sum())\n",
    "        stats[1].append((exo_df[col]!=\".\").sum())\n",
    "        stats[2].append(col)\n",
    "\n",
    "    plt.figure(figsize=(80, 8))\n",
    "    plt.xticks(rotation=45)\n",
    "    size = 5\n",
    "    plt.bar(range(len(cols)), stats[0], label=\"NaN\", tick_label=stats[2])\n",
    "    plt\n",
    "    plt.bar(range(len(cols)), stats[1], label=\"Non-NaN\", bottom = stats[0])\n",
    "    plt.legend()\n",
    "    plt.show()\n",
    "\n",
    "dir_ = \"../data/variant\"\n",
    "for root, dirs, files in os.walk(dir_):\n",
    "    for f in files:\n",
    "        if f.split(\".\")[-1] == \"txt\":\n",
    "            file_path = os.path.join(\"../data/variant\", f)\n",
    "            df = pd.read_table(file_path).iloc[:,:-11]\n",
    "            df.to_csv(os.path.join(\"../data/variant\", \".\".join(f.split(\".\")[:-1]) + \".csv\"), index=0)\n",
    "            annovar_res_visualize(df)\n"
   ]
  },
  {
   "cell_type": "code",
   "execution_count": 7,
   "metadata": {
    "tags": []
   },
   "outputs": [
    {
     "output_type": "stream",
     "name": "stderr",
     "text": [
      "E:\\Envs\\ml\\lib\\site-packages\\IPython\\core\\interactiveshell.py:3147: DtypeWarning: Columns (1) have mixed types.Specify dtype option on import or set low_memory=False.\n",
      "  interactivity=interactivity, compiler=compiler, result=result)\n",
      "E:\\Envs\\ml\\lib\\site-packages\\IPython\\core\\interactiveshell.py:3147: DtypeWarning: Columns (23,25,29,31,39,42,44,48,49,68,79,80,81,82,83,84,85,86) have mixed types.Specify dtype option on import or set low_memory=False.\n",
      "  interactivity=interactivity, compiler=compiler, result=result)\n"
     ]
    }
   ],
   "source": [
    "import pandas as pd\n",
    "import os\n",
    "\n",
    "datasets = ['HumVarFiltered', 'ExoVarFiltered', 'VariBenchSelected', 'predictSNPSelected', 'SwissVarSelected']\n",
    "# datasets = ['HumVarFiltered']\n",
    "dir_ = \"../data/variant\"\n",
    "out_dir_ = \"../data/variants_selected/\"\n",
    "dfs = []\n",
    "keys = ['True Label', 'Chr', 'Start', 'End', 'Ref', 'Alt', 'Func.refGene', 'Gene.refGene', 'GeneDetail.refGene', 'ExonicFunc.refGene', 'AAChange.refGene', 'Func.knownGene', 'Gene.knownGene', 'GeneDetail.knownGene', 'ExonicFunc.knownGene', 'AAChange.knownGene', 'Func.ensGene', 'Gene.ensGene', 'GeneDetail.ensGene', 'ExonicFunc.ensGene', 'AAChange.ensGene', 'SIFT_score', 'SIFT_pred', 'Polyphen2_HDIV_score', 'Polyphen2_HDIV_pred', 'Polyphen2_HVAR_score', 'Polyphen2_HVAR_pred', 'LRT_score', 'LRT_pred', 'MutationTaster_score', 'MutationTaster_pred', 'MutationAssessor_score', 'MutationAssessor_pred', 'FATHMM_score', 'FATHMM_pred', 'RadialSVM_score', 'RadialSVM_pred', 'LR_score', 'LR_pred', 'VEST3_score', 'CADD_raw', 'CADD_phred', 'GERP++_RS', 'phyloP46way_placental', 'phyloP100way_vertebrate', 'SiPhy_29way_logOdds', 'Alt.1', '#Chr', 'Start.1', 'DamagePredCount', 'SIFT_pred.1', 'SIFT4G_pred', 'LRT_pred.1', 'MutationTaster_pred.1', 'MutationAssessor_pred.1', 'FATHMM_pred.1', 'PROVEAN_pred', 'MetaSVM_pred', 'MetaLR_pred', 'M-CAP_pred', 'MutPred_score', 'MVP_score', 'MPC_score', 'PrimateAI_pred', 'DEOGEN2_pred', 'BayesDel_addAF_pred', 'BayesDel_noAF_pred', 'LIST-S2_pred', 'DANN_score', 'fathmm-MKL_coding_pred', 'fathmm-XF_coding_pred', 'Eigen-raw_coding', 'Eigen-phred_coding', 'Eigen-PC-raw_coding', 'Eigen-PC-phred_coding', 'integrated_fitCons_score', 'GM12878_fitCons_score', 'H1-hESC_fitCons_score', 'HUVEC_fitCons_score', 'GERP++_NR', 'GERP++_RS.1', 'phyloP100way_vertebrate.1', 'phyloP30way_mammalian', 'phyloP17way_primate', 'phastCons100way_vertebrate', 'phastCons30way_mammalian', 'phastCons17way_primate', 'bStatistic', 'Interpro_domain', 'GTEx_V8_gene', 'GTEx_V8_tissue', 'ExAC_ALL', 'ExAC_AFR', 'ExAC_AMR', 'ExAC_EAS', 'ExAC_FIN', 'ExAC_NFE', 'ExAC_OTH', 'ExAC_SAS', 'MCAP', 'REVEL', 'CLNALLELEID', 'CLNDN', 'CLNDISDB', 'CLNREVSTAT', 'CLNSIG', 'cytoBand', 'avsnp147']\n",
    "for dataset in datasets:\n",
    "    df = pd.read_csv(os.path.join(dir_, dataset + \".hg19_multianno.csv\"))\n",
    "    df = df[~(df==\".\")]\n",
    "    # print(df.shape)\n",
    "    # print(len(df[\"GeneDetail.refGene\"].value_counts()))\n",
    "    # print(df[\"GeneDetail.refGene\"])\n",
    "    # print(sum(df[\"GeneDetail.refGene\"].isna()))\n",
    "    # print(df[\"Chr\"].value_counts())\n",
    "    count = df.count()\n",
    "    total = df.shape[0]\n",
    "    reserved = []\n",
    "    for key in keys:\n",
    "        if count[key] / total > 0.8:\n",
    "            if key not in reserved:\n",
    "                reserved.append(key)\n",
    "not_reserved = list(set(keys)-set(reserved))\n",
    "for dataset in datasets:\n",
    "    df = pd.read_csv(os.path.join(dir_, dataset + \".hg19_multianno.csv\"))\n",
    "    df = df[~(df==\".\")]\n",
    "    df = df.drop(not_reserved, axis=1)\n",
    "    df.to_csv(os.path.join(out_dir_, dataset + \".selected.hg19_multianno.csv\"), index=False)"
   ]
  },
  {
   "cell_type": "code",
   "execution_count": null,
   "metadata": {},
   "outputs": [],
   "source": [
    "import pandas as pd\n",
    "\n",
    "df = pd.DataFrame({\n",
    "    \"A\": [1, \".\"],\n",
    "    \"B\": ['.', 1]\n",
    "})\n",
    "print(df)\n",
    "print(df[df==\".\"])"
   ]
  },
  {
   "cell_type": "code",
   "execution_count": null,
   "metadata": {
    "tags": []
   },
   "outputs": [],
   "source": [
    "import pandas as pd\n",
    "import os\n",
    "import numpy as np\n",
    "\n",
    "included = ['True Label', 'Chr', 'Start', 'End', 'Ref', 'Alt', 'AAChange.refGene', 'SIFT_score', 'Polyphen2_HDIV_score', 'Polyphen2_HVAR_score', 'LRT_score', 'MutationTaster_score', 'MutationAssessor_score', 'FATHMM_score', 'RadialSVM_score', 'LR_score', 'VEST3_score', 'CADD_phred']\n",
    "# datasets = ['HumVarFiltered', 'ExoVarFiltered', 'VariBenchSelected', 'predictSNPSelected', 'SwissVarSelected']\n",
    "dataset = 'HumVarFiltered'\n",
    "input_dir = \"../data/variants_selected/\"\n",
    "output_dir = \"../data/variants/\"\n",
    "df = pd.read_csv(os.path.join(input_dir, \"{}.selected.hg19_multianno.csv\".format(dataset)), dtype={\"True Label\": int, \"Polyphen2_HDIV_score\": float, \"Polyphen2_HVAR_score\": float, \"LRT_score\": float, \"MutationTaster_score\":float, \"MutationAssessor_score\": float, \"FATHMM_score\":float, \"RadialSVM_score\":float, \"LR_score\": float, \"VEST3_score\":float, \"CADD_phred\":float})\n",
    "excluded = list(set(list(df))-set(included))\n",
    "df = df.drop(excluded, axis=1)\n",
    "df = df[~(df==\".\")]\n",
    "print(df.columns)\n",
    "\n",
    "def split(x, y):\n",
    "    if not pd.isnull(x):\n",
    "        trans = x.split(\",\")\n",
    "        # first\n",
    "        tran = trans[0]\n",
    "        aachange = tran.split(\":\")\n",
    "        _ = aachange[-1].split(\".\")[-1]\n",
    "        aa_ref = _[0]\n",
    "        aa_alt = _[-1]\n",
    "        if y==0:\n",
    "            return aa_ref\n",
    "        else:\n",
    "            return aa_alt\n",
    "    else:\n",
    "        return np.nan\n",
    "   \n",
    "aa = ['A', 'R', 'N', 'D', 'C', 'Q', 'E', 'G', 'H', 'I', 'L', 'K', 'M', 'F', 'P', 'S', 'T', 'W', 'Y', 'V']\n",
    "df[\"A_Ref\"] = df[\"AAChange.refGene\"].apply(split, y=0)\n",
    "df[\"A_Alt\"] = df[\"AAChange.refGene\"].apply(split, y=1)\n",
    "df = df.drop([\"AAChange.refGene\"], axis=1)\n",
    "\n",
    "object_col = []\n",
    "for col in df.columns:\n",
    "    if df[col].dtypes==\"object\":\n",
    "        object_col.append(col)\n",
    "print(object_col)\n",
    "ref_onehot = pd.get_dummies(df[\"Ref\"], prefix=\"Ref\")\n",
    "print(ref_onehot.columns)\n",
    "alt_onehot = pd.get_dummies(df[\"Alt\"], prefix=\"Alt\")\n",
    "print(alt_onehot.columns)\n",
    "# aa_ref_onehot = pd.get_dummies(df[\"A_Ref\"], prefix=\"A_Ref\")\n",
    "# print(aa_ref_onehot.columns)\n",
    "# aa_alt_onehot = pd.get_dummies(df[\"A_Alt\"], prefix=\"A_Alt\")\n",
    "# print(aa_alt_onehot.columns)\n",
    "# df = pd.concat([df, ref_onehot, alt_onehot], axis=1)\n",
    "df = df.join(ref_onehot)\n",
    "print(df.columns)\n",
    "\n"
   ]
  },
  {
   "cell_type": "code",
   "execution_count": 20,
   "metadata": {},
   "outputs": [
    {
     "output_type": "stream",
     "name": "stdout",
     "text": [
      "['chr1', 'chr2', 'chr3', 'chr4', 'chr5', 'chr6', 'chr7', 'chr8', 'chr9', 'chr10', 'chr11', 'chr12', 'chr13', 'chr14', 'chr15', 'chr16', 'chr17', 'chr18', 'chr19', 'chr20', 'chr21', 'chr22', 'chrX', 'chrY']\n"
     ]
    }
   ],
   "source": [
    "import pandas as pd\n",
    "import os\n",
    "import numpy as np\n",
    "\n",
    "included = ['True Label', 'Chr', 'Start', 'End', 'Ref', 'Alt', 'AAChange.refGene', 'SIFT_score', 'Polyphen2_HDIV_score', 'Polyphen2_HVAR_score', 'LRT_score', 'MutationTaster_score', 'MutationAssessor_score', 'FATHMM_score', 'RadialSVM_score', 'LR_score', 'VEST3_score', 'CADD_phred']\n",
    "# datasets = ['HumVarFiltered', 'ExoVarFiltered', 'VariBenchSelected', 'predictSNPSelected', 'SwissVarSelected']\n",
    "datasets = ['SwissVarSelected']\n",
    "input_dir = \"../data/variants_selected/\"\n",
    "out_dir_ = \"../data/variants\"\n",
    "for dataset in datasets:\n",
    "    df = pd.read_csv(os.path.join(input_dir, \"{}.selected.hg19_multianno.csv\".format(dataset)), dtype={\"True Label\": int, \"Polyphen2_HDIV_score\": float, \"Polyphen2_HVAR_score\": float, \"LRT_score\": float, \"MutationTaster_score\":float, \"MutationAssessor_score\": float, \"FATHMM_score\":float, \"RadialSVM_score\":float, \"LR_score\": float, \"VEST3_score\":float, \"CADD_phred\":float})\n",
    "    excluded = list(set(list(df))-set(included))\n",
    "    df = df.drop(excluded, axis=1)\n",
    "\n",
    "    def split(x, y):\n",
    "        if not pd.isnull(x):\n",
    "            trans = x.split(\",\")\n",
    "            # first\n",
    "            tran = trans[0]\n",
    "            aachange = tran.split(\":\")\n",
    "            _ = aachange[-1].split(\".\")[-1]\n",
    "            aa_ref = _[0]\n",
    "            aa_alt = _[-1]\n",
    "            if y==0:\n",
    "                return aa_ref\n",
    "            else:\n",
    "                return aa_alt\n",
    "        else:\n",
    "            return np.nan\n",
    "    \n",
    "    def cut_chr(x):\n",
    "        return x[3:]\n",
    "\n",
    "    chrs = []\n",
    "    for i in range(1, 23):\n",
    "        chrs.append(\"chr\" + str(i))\n",
    "    chrs.append(\"chrX\")\n",
    "    chrs.append(\"chrY\")\n",
    "    print(chrs)\n",
    "\n",
    "    df = df[(df[\"Chr\"].isin(chrs))]\n",
    "    df[\"Chr\"] = df[\"Chr\"].apply(cut_chr)\n",
    "    \n",
    "    df[\"AAChange.refGene\"] = df[\"AAChange.refGene\"].replace(\"UNKNOWN\", np.nan)\n",
    "    df[\"A_Ref\"] = df[\"AAChange.refGene\"].apply(split, y=0)\n",
    "    df[\"A_Alt\"] = df[\"AAChange.refGene\"].apply(split, y=1)\n",
    "    df = df.drop([\"AAChange.refGene\"], axis=1)\n",
    "\n",
    "\n",
    "    # object_col = []\n",
    "    # for col in df.columns:\n",
    "    #     if df[col].dtypes==\"object\":\n",
    "    #         object_col.append(col)\n",
    "    df[\"A_Alt\"] = df[\"A_Alt\"].replace(\"?\", np.nan)\n",
    "    df[\"A_Alt\"] = df[\"A_Alt\"].replace(\"l\", \"L\")\n",
    "    ref_onehot = pd.get_dummies(df[\"Ref\"], prefix=\"Ref\")\n",
    "    alt_onehot = pd.get_dummies(df[\"Alt\"], prefix=\"Alt\")\n",
    "    aa_ref_onehot = pd.get_dummies(df[\"A_Ref\"], prefix=\"A_Ref\")\n",
    "    aa_alt_onehot = pd.get_dummies(df[\"A_Alt\"], prefix=\"A_Alt\")\n",
    "    df = df.join([ref_onehot, alt_onehot, aa_ref_onehot, aa_alt_onehot])\n",
    "    df = df.drop([\"Ref\", \"Alt\", \"A_Ref\", \"A_Alt\"], axis=1)\n",
    "\n",
    "    df_data = df\n",
    "    # df_data = df.iloc[:, 1:]\n",
    "    # df_label = df.iloc[:, 0]\n",
    "\n",
    "    # print(df_data[\"Chr\"].value_counts())\n",
    "    df_data[\"Chr\"] = df_data[\"Chr\"].replace(\"X\", 23)\n",
    "    df_data[\"Chr\"] = df_data[\"Chr\"].replace(\"Y\", 24)\n",
    "    df_data[\"Chr\"] = df_data[\"Chr\"].astype('int')\n",
    "\n",
    "    df_data.to_csv(os.path.join(out_dir_, dataset + \".selected.hg19_multianno.csv\"), index=False)"
   ]
  },
  {
   "cell_type": "code",
   "execution_count": null,
   "metadata": {},
   "outputs": [],
   "source": []
  }
 ]
}