{
 "metadata": {
  "language_info": {
   "codemirror_mode": {
    "name": "ipython",
    "version": 3
   },
   "file_extension": ".py",
   "mimetype": "text/x-python",
   "name": "python",
   "nbconvert_exporter": "python",
   "pygments_lexer": "ipython3",
   "version": "3.7.9"
  },
  "orig_nbformat": 2,
  "kernelspec": {
   "name": "python379jvsc74a57bd0e58d3b4a238b69da25db37debc8e7c035df90db97ecce5d5d0275e11224d75ee",
   "display_name": "Python 3.7.9 64-bit ('ml': virtualenvwrapper)"
  },
  "metadata": {
   "interpreter": {
    "hash": "a5ba3b76034c7efd269233736b10220d5b6e6d9d6bdf3361a98c45210b1ea0de"
   }
  }
 },
 "nbformat": 4,
 "nbformat_minor": 2,
 "cells": [
  {
   "source": [
    "从原始数据集中提取出突变，用annovar进行注释"
   ],
   "cell_type": "markdown",
   "metadata": {}
  },
  {
   "cell_type": "code",
   "execution_count": null,
   "metadata": {},
   "outputs": [],
   "source": [
    "import pandas as pd\n",
    "\n",
    "raw_data_file = \"..\\data\\humu22768-sup-0001-suppmat\\humu22768-sup-0002-data.xlsx\"\n",
    "df = pd.read_excel(raw_data_file, index_col=0, sheet_name = None, usecols=[\"CHR\", \"Nuc-Pos\", \"REF-Nuc\", \"ALT-Nuc\"])"
   ]
  },
  {
   "cell_type": "code",
   "execution_count": null,
   "metadata": {},
   "outputs": [],
   "source": [
    "import os\n",
    "\n",
    "variant_file_dir = \"..\\data\\\\variant\"\n",
    "if not os.path.exists(variant_file_dir):\n",
    "    os.mkdir(variant_file_dir)\n",
    "for key in df.keys():\n",
    "        _ = df[key]\n",
    "        _.to_csv(os.path.join(variant_file_dir, \"{}.csv\".format(key)))\n"
   ]
  },
  {
   "source": [
    "convert the snp files to vcf"
   ],
   "cell_type": "markdown",
   "metadata": {}
  },
  {
   "cell_type": "code",
   "execution_count": null,
   "metadata": {
    "tags": []
   },
   "outputs": [],
   "source": [
    "import pandas \n",
    "import os\n",
    "\n",
    "variant_files_dir = \"../data/variant\"\n",
    "output_dir = \"../data/variant\"\n",
    "if not os.path.exists(output_dir):\n",
    "    os.mkdir(output_dir)\n",
    "print(\"starting\")\n",
    "for root, dirs, files in os.walk(variant_files_dir):\n",
    "    for file_ in files:\n",
    "        path = os.path.join(root, file_)\n",
    "        print(\"process {}\".format(path))\n",
    "        df_variants = pandas.read_csv(path, index_col=0)\n",
    "        print(list(df_variants))\n",
    "        output_file = file_.split(\".\")[0] + \".vcf\"\n",
    "        if output_file is None:\n",
    "            output_file = str(uuid.uuid4())\n",
    "        output = os.path.join(output_dir, output_file)\n",
    "        with open(output, \"w+\") as f:\n",
    "            f.write(\"##fileformat=VCFv4.3\\n\")\n",
    "            f.write(\"#CHROM\\tPOS\\tID\\tREF\\tALT\\tQUAL\\tFILTER\\tINFO\\n\")\n",
    "            for index, row in df_variants.iterrows():\n",
    "                chr = index\n",
    "                pos = row[\"Nuc-Pos\"]\n",
    "                ref = row[\"REF-Nuc\"]\n",
    "                alt = row[\"ALT-Nuc\"]\n",
    "                f.write(\"{}\\t{}\\t.\\t{}\\t{}\\t.\\t.\\t.\\n\".format(chr, pos, ref, alt))"
   ]
  },
  {
   "source": [
    "check the output of annovar"
   ],
   "cell_type": "markdown",
   "metadata": {}
  },
  {
   "cell_type": "code",
   "execution_count": null,
   "metadata": {},
   "outputs": [],
   "source": [
    "import pandas as pd\n",
    "\n",
    "exo_df = pd.read_table(\"../data/variant/ExoVarFiltered.hg19_multianno.txt\").iloc[:,:-11]\n",
    "# exo_df = exo_df.loc[:,~(exo_df == \".\").any()]\n",
    "cols = list(exo_df)\n",
    "stats = [[] for _ in range(3)]\n",
    "for col in cols:\n",
    "    stats[0].append((exo_df[col]==\".\").sum())\n",
    "    stats[1].append((exo_df[col]!=\".\").sum())\n",
    "    stats[2].append(col)\n",
    "print(stats)\n",
    "import numpy\n",
    "import matplotlib.pyplot as plt\n",
    "\n",
    "plt.figure(figsize=(80, 8))\n",
    "plt.xticks(rotation=45)\n",
    "size = 5\n",
    "plt.bar(range(len(cols)), stats[0], label=\"NaN\", tick_label=stats[2])\n",
    "plt\n",
    "plt.bar(range(len(cols)), stats[1], label=\"Non-NaN\", bottom = stats[0])\n",
    "plt.legend()\n",
    "plt.show()\n"
   ]
  },
  {
   "cell_type": "code",
   "execution_count": null,
   "metadata": {},
   "outputs": [],
   "source": []
  }
 ]
}