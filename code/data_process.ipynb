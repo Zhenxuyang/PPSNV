{
 "metadata": {
  "language_info": {
   "codemirror_mode": {
    "name": "ipython",
    "version": 3
   },
   "file_extension": ".py",
   "mimetype": "text/x-python",
   "name": "python",
   "nbconvert_exporter": "python",
   "pygments_lexer": "ipython3",
   "version": "3.8.5"
  },
  "orig_nbformat": 2,
  "kernelspec": {
   "name": "python385jvsc74a57bd0a5ba3b76034c7efd269233736b10220d5b6e6d9d6bdf3361a98c45210b1ea0de",
   "display_name": "Python 3.8.5 64-bit ('ml': venv)"
  },
  "metadata": {
   "interpreter": {
    "hash": "a5ba3b76034c7efd269233736b10220d5b6e6d9d6bdf3361a98c45210b1ea0de"
   }
  }
 },
 "nbformat": 4,
 "nbformat_minor": 2,
 "cells": [
  {
   "source": [
    "从原始数据集中提取出突变，用annovar进行注释"
   ],
   "cell_type": "markdown",
   "metadata": {}
  },
  {
   "cell_type": "code",
   "execution_count": null,
   "metadata": {},
   "outputs": [],
   "source": [
    "import pandas as pd\n",
    "\n",
    "raw_data_file = \"..\\data\\humu22768-sup-0001-suppmat\\humu22768-sup-0002-data.xlsx\"\n",
    "df = pd.read_excel(raw_data_file, index_col=0, sheet_name = None, usecols=[\"CHR\", \"Nuc-Pos\", \"REF-Nuc\", \"ALT-Nuc\"])"
   ]
  },
  {
   "cell_type": "code",
   "execution_count": 13,
   "metadata": {},
   "outputs": [
    {
     "output_type": "execute_result",
     "data": {
      "text/plain": [
       "dict_keys"
      ]
     },
     "metadata": {},
     "execution_count": 13
    }
   ],
   "source": [
    "type(df)\n",
    "type(df.keys())"
   ]
  },
  {
   "cell_type": "code",
   "execution_count": 16,
   "metadata": {},
   "outputs": [],
   "source": [
    "import os\n",
    "\n",
    "variant_file_dir = \"..\\data\\\\variant\"\n",
    "if not os.path.exists(variant_file_dir):\n",
    "    os.mkdir(variant_file_dir)\n",
    "for key in df.keys():\n",
    "        _ = df[key]\n",
    "        _.to_csv(os.path.join(variant_file_dir, \"{}.csv\".format(key)))\n"
   ]
  },
  {
   "cell_type": "code",
   "execution_count": null,
   "metadata": {},
   "outputs": [],
   "source": []
  }
 ]
}