{
 "metadata": {
  "language_info": {
   "codemirror_mode": {
    "name": "ipython",
    "version": 3
   },
   "file_extension": ".py",
   "mimetype": "text/x-python",
   "name": "python",
   "nbconvert_exporter": "python",
   "pygments_lexer": "ipython3",
   "version": "3.7.9"
  },
  "orig_nbformat": 2,
  "kernelspec": {
   "name": "python379jvsc74a57bd0e58d3b4a238b69da25db37debc8e7c035df90db97ecce5d5d0275e11224d75ee",
   "display_name": "Python 3.7.9 64-bit ('ml': virtualenvwrapper)"
  },
  "metadata": {
   "interpreter": {
    "hash": "a5ba3b76034c7efd269233736b10220d5b6e6d9d6bdf3361a98c45210b1ea0de"
   }
  }
 },
 "nbformat": 4,
 "nbformat_minor": 2,
 "cells": [
  {
   "source": [
    "从原始数据集中提取出突变，用annovar进行注释"
   ],
   "cell_type": "markdown",
   "metadata": {}
  },
  {
   "cell_type": "code",
   "execution_count": null,
   "metadata": {},
   "outputs": [],
   "source": [
    "import pandas as pd\n",
    "\n",
    "raw_data_file = \"..\\data\\humu22768-sup-0001-suppmat\\humu22768-sup-0002-data.xlsx\"\n",
    "df = pd.read_excel(raw_data_file, index_col=0, sheet_name = None, usecols=[\"CHR\", \"Nuc-Pos\", \"REF-Nuc\", \"ALT-Nuc\"], engine=\"openpyxl\")\n",
    "print(df.keys())"
   ]
  },
  {
   "cell_type": "code",
   "execution_count": null,
   "metadata": {},
   "outputs": [],
   "source": [
    "import os\n",
    "\n",
    "variant_file_dir = \"..\\data\\\\variant\"\n",
    "if not os.path.exists(variant_file_dir):\n",
    "    os.mkdir(variant_file_dir)\n",
    "for key in df.keys():\n",
    "        _ = df[key]\n",
    "        _.to_csv(os.path.join(variant_file_dir, \"{}.csv\".format(key)))\n"
   ]
  },
  {
   "source": [
    "convert the snp files to vcf"
   ],
   "cell_type": "markdown",
   "metadata": {}
  },
  {
   "cell_type": "code",
   "execution_count": null,
   "metadata": {
    "tags": []
   },
   "outputs": [],
   "source": [
    "import pandas \n",
    "import os\n",
    "\n",
    "variant_files_dir = \"../data/variant\"\n",
    "output_dir = \"../data/variant\"\n",
    "if not os.path.exists(output_dir):\n",
    "    os.mkdir(output_dir)\n",
    "print(\"starting\")\n",
    "for root, dirs, files in os.walk(variant_files_dir):\n",
    "    for file_ in files:\n",
    "        path = os.path.join(root, file_)\n",
    "        print(\"process {}\".format(path))\n",
    "        df_variants = pandas.read_csv(path, index_col=0)\n",
    "        print(list(df_variants))\n",
    "        output_file = file_.split(\".\")[0] + \".vcf\"\n",
    "        if output_file is None:\n",
    "            output_file = str(uuid.uuid4())\n",
    "        output = os.path.join(output_dir, output_file)\n",
    "        with open(output, \"w+\") as f:\n",
    "            f.write(\"##fileformat=VCFv4.3\\n\")\n",
    "            f.write(\"#CHROM\\tPOS\\tID\\tREF\\tALT\\tQUAL\\tFILTER\\tINFO\\n\")\n",
    "            for index, row in df_variants.iterrows():\n",
    "                chr = index\n",
    "                pos = row[\"Nuc-Pos\"]\n",
    "                ref = row[\"REF-Nuc\"]\n",
    "                alt = row[\"ALT-Nuc\"]\n",
    "                f.write(\"{}\\t{}\\t.\\t{}\\t{}\\t.\\t.\\t.\\n\".format(chr, pos, ref, alt))"
   ]
  },
  {
   "source": [
    "check the output of annovar"
   ],
   "cell_type": "markdown",
   "metadata": {}
  },
  {
   "cell_type": "code",
   "execution_count": null,
   "metadata": {},
   "outputs": [],
   "source": [
    "import pandas as pd\n",
    "import numpy\n",
    "import matplotlib.pyplot as plt\n",
    "\n",
    "def annovar_res_visualize(exo_df):\n",
    "    # exo_df = exo_df.loc[:,~(exo_df == \".\").any()]\n",
    "    cols = list(exo_df)\n",
    "    stats = [[] for _ in range(3)]\n",
    "    for col in cols:\n",
    "        stats[0].append((exo_df[col]==\".\").sum())\n",
    "        stats[1].append((exo_df[col]!=\".\").sum())\n",
    "        stats[2].append(col)\n",
    "\n",
    "    plt.figure(figsize=(80, 8))\n",
    "    plt.xticks(rotation=45)\n",
    "    size = 5\n",
    "    plt.bar(range(len(cols)), stats[0], label=\"NaN\", tick_label=stats[2])\n",
    "    plt\n",
    "    plt.bar(range(len(cols)), stats[1], label=\"Non-NaN\", bottom = stats[0])\n",
    "    plt.legend()\n",
    "    plt.show()\n",
    "\n",
    "dir_ = \"../data/variant\"\n",
    "for root, dirs, files in os.walk(dir_):\n",
    "    for f in files:\n",
    "        if f.split(\".\")[-1] == \"txt\":\n",
    "            file_path = os.path.join(\"../data/variant\", f)\n",
    "            df = pd.read_table(file_path).iloc[:,:-11]\n",
    "            df.to_csv(os.path.join(\"../data/variant\", \".\".join(f.split(\".\")[:-1]) + \".csv\"), index=0)\n",
    "            annovar_res_visualize(df)\n"
   ]
  },
  {
   "cell_type": "code",
   "execution_count": 37,
   "metadata": {
    "tags": []
   },
   "outputs": [
    {
     "output_type": "stream",
     "name": "stderr",
     "text": [
      "E:\\Envs\\ml\\lib\\site-packages\\IPython\\core\\interactiveshell.py:3147: DtypeWarning: Columns (1) have mixed types.Specify dtype option on import or set low_memory=False.\n",
      "  interactivity=interactivity, compiler=compiler, result=result)\n",
      "E:\\Envs\\ml\\lib\\site-packages\\IPython\\core\\interactiveshell.py:3147: DtypeWarning: Columns (23,25,29,31,39,42,44,48,49,68,79,80,81,82,83,84,85,86) have mixed types.Specify dtype option on import or set low_memory=False.\n",
      "  interactivity=interactivity, compiler=compiler, result=result)\n"
     ]
    }
   ],
   "source": [
    "import pandas as pd\n",
    "import os\n",
    "\n",
    "datasets = ['HumVarFiltered', 'ExoVarFiltered', 'VariBenchSelected', 'predictSNPSelected', 'SwissVarSelected']\n",
    "# datasets = ['HumVarFiltered']\n",
    "dir_ = \"../data/variant\"\n",
    "out_dir_ = \"../data/variants_selected/\"\n",
    "dfs = []\n",
    "keys = ['True Label', 'Chr', 'Start', 'End', 'Ref', 'Alt', 'Func.refGene', 'Gene.refGene', 'GeneDetail.refGene', 'ExonicFunc.refGene', 'AAChange.refGene', 'Func.knownGene', 'Gene.knownGene', 'GeneDetail.knownGene', 'ExonicFunc.knownGene', 'AAChange.knownGene', 'Func.ensGene', 'Gene.ensGene', 'GeneDetail.ensGene', 'ExonicFunc.ensGene', 'AAChange.ensGene', 'SIFT_score', 'SIFT_pred', 'Polyphen2_HDIV_score', 'Polyphen2_HDIV_pred', 'Polyphen2_HVAR_score', 'Polyphen2_HVAR_pred', 'LRT_score', 'LRT_pred', 'MutationTaster_score', 'MutationTaster_pred', 'MutationAssessor_score', 'MutationAssessor_pred', 'FATHMM_score', 'FATHMM_pred', 'RadialSVM_score', 'RadialSVM_pred', 'LR_score', 'LR_pred', 'VEST3_score', 'CADD_raw', 'CADD_phred', 'GERP++_RS', 'phyloP46way_placental', 'phyloP100way_vertebrate', 'SiPhy_29way_logOdds', 'Alt.1', '#Chr', 'Start.1', 'DamagePredCount', 'SIFT_pred.1', 'SIFT4G_pred', 'LRT_pred.1', 'MutationTaster_pred.1', 'MutationAssessor_pred.1', 'FATHMM_pred.1', 'PROVEAN_pred', 'MetaSVM_pred', 'MetaLR_pred', 'M-CAP_pred', 'MutPred_score', 'MVP_score', 'MPC_score', 'PrimateAI_pred', 'DEOGEN2_pred', 'BayesDel_addAF_pred', 'BayesDel_noAF_pred', 'LIST-S2_pred', 'DANN_score', 'fathmm-MKL_coding_pred', 'fathmm-XF_coding_pred', 'Eigen-raw_coding', 'Eigen-phred_coding', 'Eigen-PC-raw_coding', 'Eigen-PC-phred_coding', 'integrated_fitCons_score', 'GM12878_fitCons_score', 'H1-hESC_fitCons_score', 'HUVEC_fitCons_score', 'GERP++_NR', 'GERP++_RS.1', 'phyloP100way_vertebrate.1', 'phyloP30way_mammalian', 'phyloP17way_primate', 'phastCons100way_vertebrate', 'phastCons30way_mammalian', 'phastCons17way_primate', 'bStatistic', 'Interpro_domain', 'GTEx_V8_gene', 'GTEx_V8_tissue', 'ExAC_ALL', 'ExAC_AFR', 'ExAC_AMR', 'ExAC_EAS', 'ExAC_FIN', 'ExAC_NFE', 'ExAC_OTH', 'ExAC_SAS', 'MCAP', 'REVEL', 'CLNALLELEID', 'CLNDN', 'CLNDISDB', 'CLNREVSTAT', 'CLNSIG', 'cytoBand', 'avsnp147']\n",
    "for dataset in datasets:\n",
    "    df = pd.read_csv(os.path.join(dir_, dataset + \".hg19_multianno.csv\"))\n",
    "    df = df[~(df==\".\")]\n",
    "    # print(df.shape)\n",
    "    # print(len(df[\"GeneDetail.refGene\"].value_counts()))\n",
    "    # print(df[\"GeneDetail.refGene\"])\n",
    "    # print(sum(df[\"GeneDetail.refGene\"].isna()))\n",
    "    # print(df[\"Chr\"].value_counts())\n",
    "    count = df.count()\n",
    "    total = df.shape[0]\n",
    "    reserved = []\n",
    "    for key in keys:\n",
    "        if count[key] / total > 0.8:\n",
    "            if key not in reserved:\n",
    "                reserved.append(key)\n",
    "not_reserved = list(set(keys)-set(reserved))\n",
    "for dataset in datasets:\n",
    "    df = pd.read_csv(os.path.join(dir_, dataset + \".hg19_multianno.csv\"))\n",
    "    df = df.drop(not_reserved, axis=1)\n",
    "    df.to_csv(os.path.join(out_dir_, dataset + \".selected.hg19_multianno.csv\"), index=False)"
   ]
  },
  {
   "cell_type": "code",
   "execution_count": 42,
   "metadata": {},
   "outputs": [
    {
     "output_type": "stream",
     "name": "stdout",
     "text": [
      "   A  B\n0  1  .\n1  .  1\n     A    B\n0  NaN    .\n1    .  NaN\n"
     ]
    }
   ],
   "source": [
    "import pandas as pd\n",
    "\n",
    "df = pd.DataFrame({\n",
    "    \"A\": [1, \".\"],\n",
    "    \"B\": ['.', 1]\n",
    "})\n",
    "print(df)\n",
    "print(df[df==\".\"])"
   ]
  },
  {
   "cell_type": "code",
   "execution_count": 76,
   "metadata": {
    "tags": []
   },
   "outputs": [
    {
     "output_type": "stream",
     "name": "stderr",
     "text": [
      "E:\\Envs\\ml\\lib\\site-packages\\IPython\\core\\interactiveshell.py:3147: DtypeWarning: Columns (1) have mixed types.Specify dtype option on import or set low_memory=False.\n  interactivity=interactivity, compiler=compiler, result=result)\n"
     ]
    },
    {
     "output_type": "error",
     "ename": "AttributeError",
     "evalue": "'Series' object has no attribute 'info'",
     "traceback": [
      "\u001b[1;31m---------------------------------------------------------------------------\u001b[0m",
      "\u001b[1;31mAttributeError\u001b[0m                            Traceback (most recent call last)",
      "\u001b[1;32m<ipython-input-76-b9f7c4314f9a>\u001b[0m in \u001b[0;36m<module>\u001b[1;34m\u001b[0m\n\u001b[0;32m      8\u001b[0m \u001b[0minput_dir\u001b[0m \u001b[1;33m=\u001b[0m \u001b[1;34m\"../data/variants_selected/\"\u001b[0m\u001b[1;33m\u001b[0m\u001b[1;33m\u001b[0m\u001b[0m\n\u001b[0;32m      9\u001b[0m \u001b[0mdf\u001b[0m \u001b[1;33m=\u001b[0m \u001b[0mpd\u001b[0m\u001b[1;33m.\u001b[0m\u001b[0mread_csv\u001b[0m\u001b[1;33m(\u001b[0m\u001b[0mos\u001b[0m\u001b[1;33m.\u001b[0m\u001b[0mpath\u001b[0m\u001b[1;33m.\u001b[0m\u001b[0mjoin\u001b[0m\u001b[1;33m(\u001b[0m\u001b[0minput_dir\u001b[0m\u001b[1;33m,\u001b[0m \u001b[1;34m\"{}.selected.hg19_multianno.csv\"\u001b[0m\u001b[1;33m.\u001b[0m\u001b[0mformat\u001b[0m\u001b[1;33m(\u001b[0m\u001b[0mdataset\u001b[0m\u001b[1;33m)\u001b[0m\u001b[1;33m)\u001b[0m\u001b[1;33m,\u001b[0m \u001b[0mdtype\u001b[0m\u001b[1;33m=\u001b[0m\u001b[1;33m{\u001b[0m\u001b[1;34m\"True Label\"\u001b[0m\u001b[1;33m:\u001b[0m \u001b[0mint\u001b[0m\u001b[1;33m}\u001b[0m\u001b[1;33m)\u001b[0m\u001b[1;33m\u001b[0m\u001b[1;33m\u001b[0m\u001b[0m\n\u001b[1;32m---> 10\u001b[1;33m \u001b[0mprint\u001b[0m\u001b[1;33m(\u001b[0m\u001b[0mdf\u001b[0m\u001b[1;33m[\u001b[0m\u001b[1;34m'SIFT_score'\u001b[0m\u001b[1;33m]\u001b[0m\u001b[1;33m.\u001b[0m\u001b[0minfo\u001b[0m\u001b[1;33m(\u001b[0m\u001b[1;33m)\u001b[0m\u001b[1;33m)\u001b[0m\u001b[1;33m\u001b[0m\u001b[1;33m\u001b[0m\u001b[0m\n\u001b[0m\u001b[0;32m     11\u001b[0m \u001b[0mexcluded\u001b[0m \u001b[1;33m=\u001b[0m \u001b[0mlist\u001b[0m\u001b[1;33m(\u001b[0m\u001b[0mset\u001b[0m\u001b[1;33m(\u001b[0m\u001b[0mlist\u001b[0m\u001b[1;33m(\u001b[0m\u001b[0mdf\u001b[0m\u001b[1;33m)\u001b[0m\u001b[1;33m)\u001b[0m\u001b[1;33m-\u001b[0m\u001b[0mset\u001b[0m\u001b[1;33m(\u001b[0m\u001b[0mincluded\u001b[0m\u001b[1;33m)\u001b[0m\u001b[1;33m)\u001b[0m\u001b[1;33m\u001b[0m\u001b[1;33m\u001b[0m\u001b[0m\n\u001b[0;32m     12\u001b[0m \u001b[0mdf\u001b[0m \u001b[1;33m=\u001b[0m \u001b[0mdf\u001b[0m\u001b[1;33m.\u001b[0m\u001b[0mdrop\u001b[0m\u001b[1;33m(\u001b[0m\u001b[0mexcluded\u001b[0m\u001b[1;33m,\u001b[0m \u001b[0maxis\u001b[0m\u001b[1;33m=\u001b[0m\u001b[1;36m1\u001b[0m\u001b[1;33m)\u001b[0m\u001b[1;33m\u001b[0m\u001b[1;33m\u001b[0m\u001b[0m\n",
      "\u001b[1;32mE:\\Envs\\ml\\lib\\site-packages\\pandas\\core\\generic.py\u001b[0m in \u001b[0;36m__getattr__\u001b[1;34m(self, name)\u001b[0m\n\u001b[0;32m   5139\u001b[0m             \u001b[1;32mif\u001b[0m \u001b[0mself\u001b[0m\u001b[1;33m.\u001b[0m\u001b[0m_info_axis\u001b[0m\u001b[1;33m.\u001b[0m\u001b[0m_can_hold_identifiers_and_holds_name\u001b[0m\u001b[1;33m(\u001b[0m\u001b[0mname\u001b[0m\u001b[1;33m)\u001b[0m\u001b[1;33m:\u001b[0m\u001b[1;33m\u001b[0m\u001b[1;33m\u001b[0m\u001b[0m\n\u001b[0;32m   5140\u001b[0m                 \u001b[1;32mreturn\u001b[0m \u001b[0mself\u001b[0m\u001b[1;33m[\u001b[0m\u001b[0mname\u001b[0m\u001b[1;33m]\u001b[0m\u001b[1;33m\u001b[0m\u001b[1;33m\u001b[0m\u001b[0m\n\u001b[1;32m-> 5141\u001b[1;33m             \u001b[1;32mreturn\u001b[0m \u001b[0mobject\u001b[0m\u001b[1;33m.\u001b[0m\u001b[0m__getattribute__\u001b[0m\u001b[1;33m(\u001b[0m\u001b[0mself\u001b[0m\u001b[1;33m,\u001b[0m \u001b[0mname\u001b[0m\u001b[1;33m)\u001b[0m\u001b[1;33m\u001b[0m\u001b[1;33m\u001b[0m\u001b[0m\n\u001b[0m\u001b[0;32m   5142\u001b[0m \u001b[1;33m\u001b[0m\u001b[0m\n\u001b[0;32m   5143\u001b[0m     \u001b[1;32mdef\u001b[0m \u001b[0m__setattr__\u001b[0m\u001b[1;33m(\u001b[0m\u001b[0mself\u001b[0m\u001b[1;33m,\u001b[0m \u001b[0mname\u001b[0m\u001b[1;33m:\u001b[0m \u001b[0mstr\u001b[0m\u001b[1;33m,\u001b[0m \u001b[0mvalue\u001b[0m\u001b[1;33m)\u001b[0m \u001b[1;33m->\u001b[0m \u001b[1;32mNone\u001b[0m\u001b[1;33m:\u001b[0m\u001b[1;33m\u001b[0m\u001b[1;33m\u001b[0m\u001b[0m\n",
      "\u001b[1;31mAttributeError\u001b[0m: 'Series' object has no attribute 'info'"
     ]
    }
   ],
   "source": [
    "import pandas as pd\r\n",
    "import os\r\n",
    "import numpy as np\r\n",
    "\r\n",
    "included = ['True Label', 'Chr', 'Start', 'End', 'Ref', 'Alt', 'AAChange.refGene', 'SIFT_score', 'Polyphen2_HDIV_score', 'Polyphen2_HVAR_score', 'LRT_score', 'MutationTaster_score', 'MutationAssessor_score', 'FATHMM_score', 'RadialSVM_score', 'LR_score', 'VEST3_score', 'CADD_phred']\r\n",
    "# datasets = ['HumVarFiltered', 'ExoVarFiltered', 'VariBenchSelected', 'predictSNPSelected', 'SwissVarSelected']\r\n",
    "dataset = 'HumVarFiltered'\r\n",
    "input_dir = \"../data/variants_selected/\"\r\n",
    "df = pd.read_csv(os.path.join(input_dir, \"{}.selected.hg19_multianno.csv\".format(dataset)), dtype={\"True Label\": int, })\r\n",
    "print(df.info())\r\n",
    "excluded = list(set(list(df))-set(included))\r\n",
    "df = df.drop(excluded, axis=1)\r\n",
    "df = df[~(df==\".\")]\r\n",
    "print(df.columns)\r\n",
    "\r\n",
    "def split(x, y):\r\n",
    "    if not pd.isnull(x):\r\n",
    "        trans = x.split(\",\")\r\n",
    "        # first\r\n",
    "        tran = trans[0]\r\n",
    "        aachange = tran.split(\":\")\r\n",
    "        _ = aachange[-1].split(\".\")[-1]\r\n",
    "        aa_ref = _[0]\r\n",
    "        aa_alt = _[-1]\r\n",
    "        if y==0:\r\n",
    "            return aa_ref\r\n",
    "        else:\r\n",
    "            return aa_alt\r\n",
    "    else:\r\n",
    "        return np.nan\r\n",
    "   \r\n",
    "\r\n",
    "df[\"A_Ref\"] = df[\"AAChange.refGene\"].apply(split, y=0)\r\n",
    "df[\"A_Alt\"] = df[\"AAChange.refGene\"].apply(split, y=1)\r\n",
    "# df[\"A_Alt\"] = df[\"AAChange.refGene\"].apply(split)\r\n",
    "print(df.head())\r\n",
    "# print(aa)\r\n",
    "# df[\"A_Ref\"] = aa\r\n",
    "# df[\"A_Alt\"] = aa[1]\r\n",
    "\r\n",
    "for col in df.columns:\r\n",
    "    print(col, df[col].dtypes)"
   ]
  },
  {
   "cell_type": "code",
   "execution_count": null,
   "metadata": {},
   "outputs": [],
   "source": []
  }
 ]
}